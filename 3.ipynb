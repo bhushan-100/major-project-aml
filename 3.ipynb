{
 "cells": [
  {
   "cell_type": "code",
   "execution_count": 1,
   "metadata": {},
   "outputs": [],
   "source": [
    "import pandas as pd"
   ]
  },
  {
   "cell_type": "code",
   "execution_count": 2,
   "metadata": {},
   "outputs": [],
   "source": [
    "from sklearn.metrics import classification_report"
   ]
  },
  {
   "cell_type": "code",
   "execution_count": 3,
   "metadata": {},
   "outputs": [],
   "source": [
    "df = pd.read_csv(\"evaluation_results.csv\")"
   ]
  },
  {
   "cell_type": "code",
   "execution_count": 4,
   "metadata": {},
   "outputs": [],
   "source": [
    "# df.reset_index(inplace=True)\n",
    "# df.rename(columns={\"index\": \"EdgeID\"}, inplace=True) "
   ]
  },
  {
   "cell_type": "code",
   "execution_count": 5,
   "metadata": {},
   "outputs": [],
   "source": [
    "df.rename(columns={\"Edge ID\": \"EdgeID\"}, inplace=True) "
   ]
  },
  {
   "cell_type": "code",
   "execution_count": 6,
   "metadata": {},
   "outputs": [
    {
     "data": {
      "text/html": [
       "<div>\n",
       "<style scoped>\n",
       "    .dataframe tbody tr th:only-of-type {\n",
       "        vertical-align: middle;\n",
       "    }\n",
       "\n",
       "    .dataframe tbody tr th {\n",
       "        vertical-align: top;\n",
       "    }\n",
       "\n",
       "    .dataframe thead th {\n",
       "        text-align: right;\n",
       "    }\n",
       "</style>\n",
       "<table border=\"1\" class=\"dataframe\">\n",
       "  <thead>\n",
       "    <tr style=\"text-align: right;\">\n",
       "      <th></th>\n",
       "      <th>EdgeID</th>\n",
       "      <th>Source Node</th>\n",
       "      <th>Target Node</th>\n",
       "      <th>Ground Truth</th>\n",
       "      <th>Prediction</th>\n",
       "      <th>batch</th>\n",
       "    </tr>\n",
       "  </thead>\n",
       "  <tbody>\n",
       "    <tr>\n",
       "      <th>0</th>\n",
       "      <td>4214585.0</td>\n",
       "      <td>1</td>\n",
       "      <td>0</td>\n",
       "      <td>0</td>\n",
       "      <td>0</td>\n",
       "      <td>1</td>\n",
       "    </tr>\n",
       "    <tr>\n",
       "      <th>1</th>\n",
       "      <td>4215295.0</td>\n",
       "      <td>455</td>\n",
       "      <td>3</td>\n",
       "      <td>0</td>\n",
       "      <td>0</td>\n",
       "      <td>1</td>\n",
       "    </tr>\n",
       "    <tr>\n",
       "      <th>2</th>\n",
       "      <td>4214612.0</td>\n",
       "      <td>339</td>\n",
       "      <td>4</td>\n",
       "      <td>0</td>\n",
       "      <td>0</td>\n",
       "      <td>1</td>\n",
       "    </tr>\n",
       "    <tr>\n",
       "      <th>3</th>\n",
       "      <td>4215076.0</td>\n",
       "      <td>435</td>\n",
       "      <td>8</td>\n",
       "      <td>0</td>\n",
       "      <td>0</td>\n",
       "      <td>1</td>\n",
       "    </tr>\n",
       "    <tr>\n",
       "      <th>4</th>\n",
       "      <td>4214679.0</td>\n",
       "      <td>6</td>\n",
       "      <td>9</td>\n",
       "      <td>0</td>\n",
       "      <td>0</td>\n",
       "      <td>1</td>\n",
       "    </tr>\n",
       "  </tbody>\n",
       "</table>\n",
       "</div>"
      ],
      "text/plain": [
       "      EdgeID  Source Node  Target Node  Ground Truth  Prediction  batch\n",
       "0  4214585.0            1            0             0           0      1\n",
       "1  4215295.0          455            3             0           0      1\n",
       "2  4214612.0          339            4             0           0      1\n",
       "3  4215076.0          435            8             0           0      1\n",
       "4  4214679.0            6            9             0           0      1"
      ]
     },
     "execution_count": 6,
     "metadata": {},
     "output_type": "execute_result"
    }
   ],
   "source": [
    "df.head()"
   ]
  },
  {
   "cell_type": "code",
   "execution_count": 7,
   "metadata": {},
   "outputs": [
    {
     "data": {
      "text/plain": [
       "(863071, 6)"
      ]
     },
     "execution_count": 7,
     "metadata": {},
     "output_type": "execute_result"
    }
   ],
   "source": [
    "df.shape"
   ]
  },
  {
   "cell_type": "code",
   "execution_count": 8,
   "metadata": {},
   "outputs": [
    {
     "data": {
      "text/plain": [
       "(4214445.0, 5078344.0)"
      ]
     },
     "execution_count": 8,
     "metadata": {},
     "output_type": "execute_result"
    }
   ],
   "source": [
    "df[\"EdgeID\"].min(), df[\"EdgeID\"].max()"
   ]
  },
  {
   "cell_type": "code",
   "execution_count": 9,
   "metadata": {},
   "outputs": [
    {
     "data": {
      "text/plain": [
       "863899.0"
      ]
     },
     "execution_count": 9,
     "metadata": {},
     "output_type": "execute_result"
    }
   ],
   "source": [
    "df[\"EdgeID\"].max() - df[\"EdgeID\"].min()"
   ]
  },
  {
   "cell_type": "code",
   "execution_count": 10,
   "metadata": {},
   "outputs": [
    {
     "data": {
      "text/plain": [
       "Index(['EdgeID', 'Source Node', 'Target Node', 'Ground Truth', 'Prediction',\n",
       "       'batch'],\n",
       "      dtype='object')"
      ]
     },
     "execution_count": 10,
     "metadata": {},
     "output_type": "execute_result"
    }
   ],
   "source": [
    "df.columns"
   ]
  },
  {
   "cell_type": "code",
   "execution_count": 11,
   "metadata": {},
   "outputs": [
    {
     "data": {
      "text/html": [
       "<div>\n",
       "<style scoped>\n",
       "    .dataframe tbody tr th:only-of-type {\n",
       "        vertical-align: middle;\n",
       "    }\n",
       "\n",
       "    .dataframe tbody tr th {\n",
       "        vertical-align: top;\n",
       "    }\n",
       "\n",
       "    .dataframe thead th {\n",
       "        text-align: right;\n",
       "    }\n",
       "</style>\n",
       "<table border=\"1\" class=\"dataframe\">\n",
       "  <thead>\n",
       "    <tr style=\"text-align: right;\">\n",
       "      <th></th>\n",
       "      <th>EdgeID</th>\n",
       "      <th>from_id</th>\n",
       "      <th>to_id</th>\n",
       "      <th>Timestamp</th>\n",
       "      <th>Amount Sent</th>\n",
       "      <th>Sent Currency</th>\n",
       "      <th>Amount Received</th>\n",
       "      <th>Received Currency</th>\n",
       "      <th>Payment Format</th>\n",
       "      <th>Is Laundering</th>\n",
       "    </tr>\n",
       "  </thead>\n",
       "  <tbody>\n",
       "    <tr>\n",
       "      <th>0</th>\n",
       "      <td>316720</td>\n",
       "      <td>256803</td>\n",
       "      <td>256803</td>\n",
       "      <td>10</td>\n",
       "      <td>47.64</td>\n",
       "      <td>13</td>\n",
       "      <td>47.64</td>\n",
       "      <td>13</td>\n",
       "      <td>0</td>\n",
       "      <td>0</td>\n",
       "    </tr>\n",
       "    <tr>\n",
       "      <th>1</th>\n",
       "      <td>261688</td>\n",
       "      <td>212164</td>\n",
       "      <td>212164</td>\n",
       "      <td>10</td>\n",
       "      <td>3917.42</td>\n",
       "      <td>10</td>\n",
       "      <td>3917.42</td>\n",
       "      <td>10</td>\n",
       "      <td>0</td>\n",
       "      <td>0</td>\n",
       "    </tr>\n",
       "    <tr>\n",
       "      <th>2</th>\n",
       "      <td>261696</td>\n",
       "      <td>212165</td>\n",
       "      <td>208177</td>\n",
       "      <td>10</td>\n",
       "      <td>97.49</td>\n",
       "      <td>10</td>\n",
       "      <td>97.49</td>\n",
       "      <td>10</td>\n",
       "      <td>2</td>\n",
       "      <td>0</td>\n",
       "    </tr>\n",
       "    <tr>\n",
       "      <th>3</th>\n",
       "      <td>126680</td>\n",
       "      <td>102447</td>\n",
       "      <td>102448</td>\n",
       "      <td>10</td>\n",
       "      <td>13939.05</td>\n",
       "      <td>2</td>\n",
       "      <td>13939.05</td>\n",
       "      <td>2</td>\n",
       "      <td>5</td>\n",
       "      <td>0</td>\n",
       "    </tr>\n",
       "    <tr>\n",
       "      <th>4</th>\n",
       "      <td>126564</td>\n",
       "      <td>102351</td>\n",
       "      <td>102351</td>\n",
       "      <td>10</td>\n",
       "      <td>10.37</td>\n",
       "      <td>2</td>\n",
       "      <td>10.37</td>\n",
       "      <td>2</td>\n",
       "      <td>0</td>\n",
       "      <td>0</td>\n",
       "    </tr>\n",
       "  </tbody>\n",
       "</table>\n",
       "</div>"
      ],
      "text/plain": [
       "   EdgeID  from_id   to_id  Timestamp  Amount Sent  Sent Currency  \\\n",
       "0  316720   256803  256803         10        47.64             13   \n",
       "1  261688   212164  212164         10      3917.42             10   \n",
       "2  261696   212165  208177         10        97.49             10   \n",
       "3  126680   102447  102448         10     13939.05              2   \n",
       "4  126564   102351  102351         10        10.37              2   \n",
       "\n",
       "   Amount Received  Received Currency  Payment Format  Is Laundering  \n",
       "0            47.64                 13               0              0  \n",
       "1          3917.42                 10               0              0  \n",
       "2            97.49                 10               2              0  \n",
       "3         13939.05                  2               5              0  \n",
       "4            10.37                  2               0              0  "
      ]
     },
     "execution_count": 11,
     "metadata": {},
     "output_type": "execute_result"
    }
   ],
   "source": [
    "df_a = pd.read_csv(\"data/Small_HI/formatted_transactions.csv\")\n",
    "df_a.head()"
   ]
  },
  {
   "cell_type": "code",
   "execution_count": 12,
   "metadata": {},
   "outputs": [
    {
     "data": {
      "text/html": [
       "<div>\n",
       "<style scoped>\n",
       "    .dataframe tbody tr th:only-of-type {\n",
       "        vertical-align: middle;\n",
       "    }\n",
       "\n",
       "    .dataframe tbody tr th {\n",
       "        vertical-align: top;\n",
       "    }\n",
       "\n",
       "    .dataframe thead th {\n",
       "        text-align: right;\n",
       "    }\n",
       "</style>\n",
       "<table border=\"1\" class=\"dataframe\">\n",
       "  <thead>\n",
       "    <tr style=\"text-align: right;\">\n",
       "      <th></th>\n",
       "      <th>EdgeID</th>\n",
       "      <th>from_id</th>\n",
       "      <th>to_id</th>\n",
       "      <th>Timestamp</th>\n",
       "      <th>Amount Sent</th>\n",
       "      <th>Sent Currency</th>\n",
       "      <th>Amount Received</th>\n",
       "      <th>Received Currency</th>\n",
       "      <th>Payment Format</th>\n",
       "      <th>Is Laundering</th>\n",
       "    </tr>\n",
       "  </thead>\n",
       "  <tbody>\n",
       "  </tbody>\n",
       "</table>\n",
       "</div>"
      ],
      "text/plain": [
       "Empty DataFrame\n",
       "Columns: [EdgeID, from_id, to_id, Timestamp, Amount Sent, Sent Currency, Amount Received, Received Currency, Payment Format, Is Laundering]\n",
       "Index: []"
      ]
     },
     "execution_count": 12,
     "metadata": {},
     "output_type": "execute_result"
    }
   ],
   "source": [
    "df_a[(df_a[\"from_id\"] == 496) & (df_a[\"to_id\"] == 779)]"
   ]
  },
  {
   "cell_type": "code",
   "execution_count": null,
   "metadata": {},
   "outputs": [],
   "source": []
  },
  {
   "cell_type": "code",
   "execution_count": 13,
   "metadata": {},
   "outputs": [],
   "source": [
    "merged_df = df.merge(df_a, on=\"EdgeID\", how=\"left\")"
   ]
  },
  {
   "cell_type": "code",
   "execution_count": 14,
   "metadata": {},
   "outputs": [
    {
     "data": {
      "text/plain": [
       "(863071, 15)"
      ]
     },
     "execution_count": 14,
     "metadata": {},
     "output_type": "execute_result"
    }
   ],
   "source": [
    "merged_df.shape"
   ]
  },
  {
   "cell_type": "code",
   "execution_count": 15,
   "metadata": {},
   "outputs": [
    {
     "data": {
      "text/html": [
       "<div>\n",
       "<style scoped>\n",
       "    .dataframe tbody tr th:only-of-type {\n",
       "        vertical-align: middle;\n",
       "    }\n",
       "\n",
       "    .dataframe tbody tr th {\n",
       "        vertical-align: top;\n",
       "    }\n",
       "\n",
       "    .dataframe thead th {\n",
       "        text-align: right;\n",
       "    }\n",
       "</style>\n",
       "<table border=\"1\" class=\"dataframe\">\n",
       "  <thead>\n",
       "    <tr style=\"text-align: right;\">\n",
       "      <th></th>\n",
       "      <th>EdgeID</th>\n",
       "      <th>Source Node</th>\n",
       "      <th>Target Node</th>\n",
       "      <th>Ground Truth</th>\n",
       "      <th>Prediction</th>\n",
       "      <th>batch</th>\n",
       "      <th>from_id</th>\n",
       "      <th>to_id</th>\n",
       "      <th>Timestamp</th>\n",
       "      <th>Amount Sent</th>\n",
       "      <th>Sent Currency</th>\n",
       "      <th>Amount Received</th>\n",
       "      <th>Received Currency</th>\n",
       "      <th>Payment Format</th>\n",
       "      <th>Is Laundering</th>\n",
       "    </tr>\n",
       "  </thead>\n",
       "  <tbody>\n",
       "    <tr>\n",
       "      <th>0</th>\n",
       "      <td>4214585.0</td>\n",
       "      <td>1</td>\n",
       "      <td>0</td>\n",
       "      <td>0</td>\n",
       "      <td>0</td>\n",
       "      <td>1</td>\n",
       "      <td>243806</td>\n",
       "      <td>247546</td>\n",
       "      <td>689470</td>\n",
       "      <td>1052.400000</td>\n",
       "      <td>14</td>\n",
       "      <td>1052.400000</td>\n",
       "      <td>14</td>\n",
       "      <td>1</td>\n",
       "      <td>0</td>\n",
       "    </tr>\n",
       "    <tr>\n",
       "      <th>1</th>\n",
       "      <td>4215295.0</td>\n",
       "      <td>455</td>\n",
       "      <td>3</td>\n",
       "      <td>0</td>\n",
       "      <td>0</td>\n",
       "      <td>1</td>\n",
       "      <td>263342</td>\n",
       "      <td>335044</td>\n",
       "      <td>690910</td>\n",
       "      <td>0.076608</td>\n",
       "      <td>1</td>\n",
       "      <td>0.076608</td>\n",
       "      <td>1</td>\n",
       "      <td>6</td>\n",
       "      <td>0</td>\n",
       "    </tr>\n",
       "    <tr>\n",
       "      <th>2</th>\n",
       "      <td>4214612.0</td>\n",
       "      <td>339</td>\n",
       "      <td>4</td>\n",
       "      <td>0</td>\n",
       "      <td>0</td>\n",
       "      <td>1</td>\n",
       "      <td>297820</td>\n",
       "      <td>248153</td>\n",
       "      <td>690730</td>\n",
       "      <td>72766.090000</td>\n",
       "      <td>14</td>\n",
       "      <td>72766.090000</td>\n",
       "      <td>14</td>\n",
       "      <td>1</td>\n",
       "      <td>0</td>\n",
       "    </tr>\n",
       "    <tr>\n",
       "      <th>3</th>\n",
       "      <td>4215076.0</td>\n",
       "      <td>435</td>\n",
       "      <td>8</td>\n",
       "      <td>0</td>\n",
       "      <td>0</td>\n",
       "      <td>1</td>\n",
       "      <td>259265</td>\n",
       "      <td>263539</td>\n",
       "      <td>690490</td>\n",
       "      <td>0.105265</td>\n",
       "      <td>1</td>\n",
       "      <td>0.105265</td>\n",
       "      <td>1</td>\n",
       "      <td>6</td>\n",
       "      <td>0</td>\n",
       "    </tr>\n",
       "    <tr>\n",
       "      <th>4</th>\n",
       "      <td>4214679.0</td>\n",
       "      <td>6</td>\n",
       "      <td>9</td>\n",
       "      <td>0</td>\n",
       "      <td>0</td>\n",
       "      <td>1</td>\n",
       "      <td>243806</td>\n",
       "      <td>249936</td>\n",
       "      <td>689710</td>\n",
       "      <td>88683.990000</td>\n",
       "      <td>14</td>\n",
       "      <td>88683.990000</td>\n",
       "      <td>14</td>\n",
       "      <td>1</td>\n",
       "      <td>0</td>\n",
       "    </tr>\n",
       "  </tbody>\n",
       "</table>\n",
       "</div>"
      ],
      "text/plain": [
       "      EdgeID  Source Node  Target Node  Ground Truth  Prediction  batch  \\\n",
       "0  4214585.0            1            0             0           0      1   \n",
       "1  4215295.0          455            3             0           0      1   \n",
       "2  4214612.0          339            4             0           0      1   \n",
       "3  4215076.0          435            8             0           0      1   \n",
       "4  4214679.0            6            9             0           0      1   \n",
       "\n",
       "   from_id   to_id  Timestamp   Amount Sent  Sent Currency  Amount Received  \\\n",
       "0   243806  247546     689470   1052.400000             14      1052.400000   \n",
       "1   263342  335044     690910      0.076608              1         0.076608   \n",
       "2   297820  248153     690730  72766.090000             14     72766.090000   \n",
       "3   259265  263539     690490      0.105265              1         0.105265   \n",
       "4   243806  249936     689710  88683.990000             14     88683.990000   \n",
       "\n",
       "   Received Currency  Payment Format  Is Laundering  \n",
       "0                 14               1              0  \n",
       "1                  1               6              0  \n",
       "2                 14               1              0  \n",
       "3                  1               6              0  \n",
       "4                 14               1              0  "
      ]
     },
     "execution_count": 15,
     "metadata": {},
     "output_type": "execute_result"
    }
   ],
   "source": [
    "merged_df.head()"
   ]
  },
  {
   "cell_type": "code",
   "execution_count": 28,
   "metadata": {},
   "outputs": [],
   "source": [
    "result_df = merged_df[[\"EdgeID\", \"Ground Truth\", \"Prediction\", \"Is Laundering\"]]"
   ]
  },
  {
   "cell_type": "code",
   "execution_count": 29,
   "metadata": {},
   "outputs": [
    {
     "data": {
      "text/html": [
       "<div>\n",
       "<style scoped>\n",
       "    .dataframe tbody tr th:only-of-type {\n",
       "        vertical-align: middle;\n",
       "    }\n",
       "\n",
       "    .dataframe tbody tr th {\n",
       "        vertical-align: top;\n",
       "    }\n",
       "\n",
       "    .dataframe thead th {\n",
       "        text-align: right;\n",
       "    }\n",
       "</style>\n",
       "<table border=\"1\" class=\"dataframe\">\n",
       "  <thead>\n",
       "    <tr style=\"text-align: right;\">\n",
       "      <th></th>\n",
       "      <th>EdgeID</th>\n",
       "      <th>Ground Truth</th>\n",
       "      <th>Prediction</th>\n",
       "      <th>Is Laundering</th>\n",
       "    </tr>\n",
       "  </thead>\n",
       "  <tbody>\n",
       "    <tr>\n",
       "      <th>0</th>\n",
       "      <td>4214585.0</td>\n",
       "      <td>0</td>\n",
       "      <td>0</td>\n",
       "      <td>0</td>\n",
       "    </tr>\n",
       "    <tr>\n",
       "      <th>1</th>\n",
       "      <td>4215295.0</td>\n",
       "      <td>0</td>\n",
       "      <td>0</td>\n",
       "      <td>0</td>\n",
       "    </tr>\n",
       "    <tr>\n",
       "      <th>2</th>\n",
       "      <td>4214612.0</td>\n",
       "      <td>0</td>\n",
       "      <td>0</td>\n",
       "      <td>0</td>\n",
       "    </tr>\n",
       "    <tr>\n",
       "      <th>3</th>\n",
       "      <td>4215076.0</td>\n",
       "      <td>0</td>\n",
       "      <td>0</td>\n",
       "      <td>0</td>\n",
       "    </tr>\n",
       "    <tr>\n",
       "      <th>4</th>\n",
       "      <td>4214679.0</td>\n",
       "      <td>0</td>\n",
       "      <td>0</td>\n",
       "      <td>0</td>\n",
       "    </tr>\n",
       "    <tr>\n",
       "      <th>...</th>\n",
       "      <td>...</td>\n",
       "      <td>...</td>\n",
       "      <td>...</td>\n",
       "      <td>...</td>\n",
       "    </tr>\n",
       "    <tr>\n",
       "      <th>863066</th>\n",
       "      <td>5078129.0</td>\n",
       "      <td>1</td>\n",
       "      <td>1</td>\n",
       "      <td>0</td>\n",
       "    </tr>\n",
       "    <tr>\n",
       "      <th>863067</th>\n",
       "      <td>5077870.0</td>\n",
       "      <td>1</td>\n",
       "      <td>0</td>\n",
       "      <td>0</td>\n",
       "    </tr>\n",
       "    <tr>\n",
       "      <th>863068</th>\n",
       "      <td>5078336.0</td>\n",
       "      <td>1</td>\n",
       "      <td>1</td>\n",
       "      <td>0</td>\n",
       "    </tr>\n",
       "    <tr>\n",
       "      <th>863069</th>\n",
       "      <td>5078006.0</td>\n",
       "      <td>0</td>\n",
       "      <td>0</td>\n",
       "      <td>0</td>\n",
       "    </tr>\n",
       "    <tr>\n",
       "      <th>863070</th>\n",
       "      <td>5078115.0</td>\n",
       "      <td>0</td>\n",
       "      <td>0</td>\n",
       "      <td>0</td>\n",
       "    </tr>\n",
       "  </tbody>\n",
       "</table>\n",
       "<p>863071 rows × 4 columns</p>\n",
       "</div>"
      ],
      "text/plain": [
       "           EdgeID  Ground Truth  Prediction  Is Laundering\n",
       "0       4214585.0             0           0              0\n",
       "1       4215295.0             0           0              0\n",
       "2       4214612.0             0           0              0\n",
       "3       4215076.0             0           0              0\n",
       "4       4214679.0             0           0              0\n",
       "...           ...           ...         ...            ...\n",
       "863066  5078129.0             1           1              0\n",
       "863067  5077870.0             1           0              0\n",
       "863068  5078336.0             1           1              0\n",
       "863069  5078006.0             0           0              0\n",
       "863070  5078115.0             0           0              0\n",
       "\n",
       "[863071 rows x 4 columns]"
      ]
     },
     "execution_count": 29,
     "metadata": {},
     "output_type": "execute_result"
    }
   ],
   "source": [
    "result_df"
   ]
  },
  {
   "cell_type": "code",
   "execution_count": 18,
   "metadata": {},
   "outputs": [
    {
     "data": {
      "text/plain": [
       "Ground Truth\n",
       "0    1024\n",
       "Name: count, dtype: int64"
      ]
     },
     "execution_count": 18,
     "metadata": {},
     "output_type": "execute_result"
    }
   ],
   "source": [
    "result_df[\"Ground Truth\"].value_counts()"
   ]
  },
  {
   "cell_type": "code",
   "execution_count": 19,
   "metadata": {},
   "outputs": [
    {
     "data": {
      "text/plain": [
       "Is Laundering\n",
       "0    995\n",
       "1     29\n",
       "Name: count, dtype: int64"
      ]
     },
     "execution_count": 19,
     "metadata": {},
     "output_type": "execute_result"
    }
   ],
   "source": [
    "result_df[\"Is Laundering\"].value_counts()"
   ]
  },
  {
   "cell_type": "code",
   "execution_count": 20,
   "metadata": {},
   "outputs": [
    {
     "data": {
      "text/html": [
       "<div>\n",
       "<style scoped>\n",
       "    .dataframe tbody tr th:only-of-type {\n",
       "        vertical-align: middle;\n",
       "    }\n",
       "\n",
       "    .dataframe tbody tr th {\n",
       "        vertical-align: top;\n",
       "    }\n",
       "\n",
       "    .dataframe thead th {\n",
       "        text-align: right;\n",
       "    }\n",
       "</style>\n",
       "<table border=\"1\" class=\"dataframe\">\n",
       "  <thead>\n",
       "    <tr style=\"text-align: right;\">\n",
       "      <th></th>\n",
       "      <th>EdgeID</th>\n",
       "      <th>Ground Truth</th>\n",
       "      <th>Prediction</th>\n",
       "      <th>Is Laundering</th>\n",
       "    </tr>\n",
       "  </thead>\n",
       "  <tbody>\n",
       "  </tbody>\n",
       "</table>\n",
       "</div>"
      ],
      "text/plain": [
       "Empty DataFrame\n",
       "Columns: [EdgeID, Ground Truth, Prediction, Is Laundering]\n",
       "Index: []"
      ]
     },
     "execution_count": 20,
     "metadata": {},
     "output_type": "execute_result"
    }
   ],
   "source": [
    "result_df[(result_df[\"Ground Truth\"] == 1) & (result_df[\"Is Laundering\"] == 1)]"
   ]
  },
  {
   "cell_type": "code",
   "execution_count": 21,
   "metadata": {},
   "outputs": [
    {
     "data": {
      "text/plain": [
       "array([0, 0, 0, ..., 0, 0, 0], dtype=int64)"
      ]
     },
     "execution_count": 21,
     "metadata": {},
     "output_type": "execute_result"
    }
   ],
   "source": [
    "y_pred = result_df[\"Prediction\"].values\n",
    "y_pred"
   ]
  },
  {
   "cell_type": "code",
   "execution_count": 22,
   "metadata": {},
   "outputs": [
    {
     "data": {
      "text/plain": [
       "array([0, 0, 0, ..., 0, 0, 1], dtype=int64)"
      ]
     },
     "execution_count": 22,
     "metadata": {},
     "output_type": "execute_result"
    }
   ],
   "source": [
    "y = result_df[\"Is Laundering\"].values\n",
    "y"
   ]
  },
  {
   "cell_type": "code",
   "execution_count": 23,
   "metadata": {},
   "outputs": [
    {
     "name": "stdout",
     "output_type": "stream",
     "text": [
      "              precision    recall  f1-score   support\n",
      "\n",
      "           0       0.97      1.00      0.99       995\n",
      "           1       0.00      0.00      0.00        29\n",
      "\n",
      "    accuracy                           0.97      1024\n",
      "   macro avg       0.49      0.50      0.49      1024\n",
      "weighted avg       0.94      0.97      0.96      1024\n",
      "\n"
     ]
    },
    {
     "name": "stderr",
     "output_type": "stream",
     "text": [
      "c:\\Users\\sarthak\\miniconda3\\envs\\aml\\Lib\\site-packages\\sklearn\\metrics\\_classification.py:1531: UndefinedMetricWarning: Precision is ill-defined and being set to 0.0 in labels with no predicted samples. Use `zero_division` parameter to control this behavior.\n",
      "  _warn_prf(average, modifier, f\"{metric.capitalize()} is\", len(result))\n",
      "c:\\Users\\sarthak\\miniconda3\\envs\\aml\\Lib\\site-packages\\sklearn\\metrics\\_classification.py:1531: UndefinedMetricWarning: Precision is ill-defined and being set to 0.0 in labels with no predicted samples. Use `zero_division` parameter to control this behavior.\n",
      "  _warn_prf(average, modifier, f\"{metric.capitalize()} is\", len(result))\n",
      "c:\\Users\\sarthak\\miniconda3\\envs\\aml\\Lib\\site-packages\\sklearn\\metrics\\_classification.py:1531: UndefinedMetricWarning: Precision is ill-defined and being set to 0.0 in labels with no predicted samples. Use `zero_division` parameter to control this behavior.\n",
      "  _warn_prf(average, modifier, f\"{metric.capitalize()} is\", len(result))\n"
     ]
    }
   ],
   "source": [
    "print(classification_report(y, y_pred))"
   ]
  },
  {
   "cell_type": "code",
   "execution_count": 24,
   "metadata": {},
   "outputs": [
    {
     "data": {
      "text/plain": [
       "(Ground Truth\n",
       " 0    1021\n",
       " 1       2\n",
       " Name: count, dtype: int64,\n",
       " Is Laundering\n",
       " 0    1023\n",
       " Name: count, dtype: int64)"
      ]
     },
     "execution_count": 24,
     "metadata": {},
     "output_type": "execute_result"
    }
   ],
   "source": [
    "r = merged_df[merged_df['batch'] == 10][[\"EdgeID\", \"Ground Truth\", \"Prediction\", \"Is Laundering\"]]\n",
    "r[\"Ground Truth\"].value_counts(), r[\"Is Laundering\"].value_counts()"
   ]
  },
  {
   "cell_type": "code",
   "execution_count": 25,
   "metadata": {},
   "outputs": [
    {
     "data": {
      "text/plain": [
       "(Ground Truth\n",
       " 0    861460\n",
       " 1      1611\n",
       " Name: count, dtype: int64,\n",
       " Is Laundering\n",
       " 0    861957\n",
       " 1      1114\n",
       " Name: count, dtype: int64,\n",
       " Prediction\n",
       " 0    862008\n",
       " 1      1063\n",
       " Name: count, dtype: int64)"
      ]
     },
     "execution_count": 25,
     "metadata": {},
     "output_type": "execute_result"
    }
   ],
   "source": [
    "merged_df[\"Ground Truth\"].value_counts(), merged_df[\"Is Laundering\"].value_counts(), merged_df[\"Prediction\"].value_counts()"
   ]
  },
  {
   "cell_type": "code",
   "execution_count": 26,
   "metadata": {},
   "outputs": [
    {
     "data": {
      "text/html": [
       "<div>\n",
       "<style scoped>\n",
       "    .dataframe tbody tr th:only-of-type {\n",
       "        vertical-align: middle;\n",
       "    }\n",
       "\n",
       "    .dataframe tbody tr th {\n",
       "        vertical-align: top;\n",
       "    }\n",
       "\n",
       "    .dataframe thead th {\n",
       "        text-align: right;\n",
       "    }\n",
       "</style>\n",
       "<table border=\"1\" class=\"dataframe\">\n",
       "  <thead>\n",
       "    <tr style=\"text-align: right;\">\n",
       "      <th></th>\n",
       "      <th>EdgeID</th>\n",
       "      <th>Source Node</th>\n",
       "      <th>Target Node</th>\n",
       "      <th>Ground Truth</th>\n",
       "      <th>Prediction</th>\n",
       "      <th>batch</th>\n",
       "      <th>from_id</th>\n",
       "      <th>to_id</th>\n",
       "      <th>Timestamp</th>\n",
       "      <th>Amount Sent</th>\n",
       "      <th>Sent Currency</th>\n",
       "      <th>Amount Received</th>\n",
       "      <th>Received Currency</th>\n",
       "      <th>Payment Format</th>\n",
       "      <th>Is Laundering</th>\n",
       "    </tr>\n",
       "  </thead>\n",
       "  <tbody>\n",
       "    <tr>\n",
       "      <th>9578</th>\n",
       "      <td>4224249.0</td>\n",
       "      <td>496</td>\n",
       "      <td>779</td>\n",
       "      <td>1</td>\n",
       "      <td>0</td>\n",
       "      <td>10</td>\n",
       "      <td>84988</td>\n",
       "      <td>94696</td>\n",
       "      <td>691330</td>\n",
       "      <td>8.570000e+00</td>\n",
       "      <td>0</td>\n",
       "      <td>8.570000e+00</td>\n",
       "      <td>0</td>\n",
       "      <td>2</td>\n",
       "      <td>0</td>\n",
       "    </tr>\n",
       "    <tr>\n",
       "      <th>9976</th>\n",
       "      <td>4223680.0</td>\n",
       "      <td>1870</td>\n",
       "      <td>1569</td>\n",
       "      <td>1</td>\n",
       "      <td>0</td>\n",
       "      <td>10</td>\n",
       "      <td>27308</td>\n",
       "      <td>79897</td>\n",
       "      <td>692890</td>\n",
       "      <td>8.366780e+03</td>\n",
       "      <td>0</td>\n",
       "      <td>8.366780e+03</td>\n",
       "      <td>0</td>\n",
       "      <td>2</td>\n",
       "      <td>0</td>\n",
       "    </tr>\n",
       "    <tr>\n",
       "      <th>16070</th>\n",
       "      <td>4230243.0</td>\n",
       "      <td>1485</td>\n",
       "      <td>1499</td>\n",
       "      <td>1</td>\n",
       "      <td>0</td>\n",
       "      <td>16</td>\n",
       "      <td>140744</td>\n",
       "      <td>147158</td>\n",
       "      <td>692650</td>\n",
       "      <td>2.232600e+02</td>\n",
       "      <td>2</td>\n",
       "      <td>2.232600e+02</td>\n",
       "      <td>2</td>\n",
       "      <td>2</td>\n",
       "      <td>0</td>\n",
       "    </tr>\n",
       "    <tr>\n",
       "      <th>18708</th>\n",
       "      <td>4233085.0</td>\n",
       "      <td>543</td>\n",
       "      <td>612</td>\n",
       "      <td>1</td>\n",
       "      <td>0</td>\n",
       "      <td>19</td>\n",
       "      <td>167044</td>\n",
       "      <td>167045</td>\n",
       "      <td>692950</td>\n",
       "      <td>6.730900e+02</td>\n",
       "      <td>4</td>\n",
       "      <td>6.730900e+02</td>\n",
       "      <td>4</td>\n",
       "      <td>2</td>\n",
       "      <td>0</td>\n",
       "    </tr>\n",
       "    <tr>\n",
       "      <th>24206</th>\n",
       "      <td>4238132.0</td>\n",
       "      <td>1382</td>\n",
       "      <td>1383</td>\n",
       "      <td>1</td>\n",
       "      <td>1</td>\n",
       "      <td>24</td>\n",
       "      <td>277847</td>\n",
       "      <td>297139</td>\n",
       "      <td>692350</td>\n",
       "      <td>3.849800e+02</td>\n",
       "      <td>3</td>\n",
       "      <td>3.849800e+02</td>\n",
       "      <td>3</td>\n",
       "      <td>1</td>\n",
       "      <td>0</td>\n",
       "    </tr>\n",
       "    <tr>\n",
       "      <th>...</th>\n",
       "      <td>...</td>\n",
       "      <td>...</td>\n",
       "      <td>...</td>\n",
       "      <td>...</td>\n",
       "      <td>...</td>\n",
       "      <td>...</td>\n",
       "      <td>...</td>\n",
       "      <td>...</td>\n",
       "      <td>...</td>\n",
       "      <td>...</td>\n",
       "      <td>...</td>\n",
       "      <td>...</td>\n",
       "      <td>...</td>\n",
       "      <td>...</td>\n",
       "      <td>...</td>\n",
       "    </tr>\n",
       "    <tr>\n",
       "      <th>863064</th>\n",
       "      <td>5077990.0</td>\n",
       "      <td>371</td>\n",
       "      <td>432</td>\n",
       "      <td>1</td>\n",
       "      <td>1</td>\n",
       "      <td>844</td>\n",
       "      <td>303317</td>\n",
       "      <td>240276</td>\n",
       "      <td>863470</td>\n",
       "      <td>5.025000e+01</td>\n",
       "      <td>11</td>\n",
       "      <td>5.025000e+01</td>\n",
       "      <td>11</td>\n",
       "      <td>5</td>\n",
       "      <td>0</td>\n",
       "    </tr>\n",
       "    <tr>\n",
       "      <th>863065</th>\n",
       "      <td>5077947.0</td>\n",
       "      <td>297</td>\n",
       "      <td>433</td>\n",
       "      <td>1</td>\n",
       "      <td>1</td>\n",
       "      <td>844</td>\n",
       "      <td>231196</td>\n",
       "      <td>339251</td>\n",
       "      <td>863050</td>\n",
       "      <td>1.378374e+04</td>\n",
       "      <td>11</td>\n",
       "      <td>1.378374e+04</td>\n",
       "      <td>11</td>\n",
       "      <td>1</td>\n",
       "      <td>0</td>\n",
       "    </tr>\n",
       "    <tr>\n",
       "      <th>863066</th>\n",
       "      <td>5078129.0</td>\n",
       "      <td>48</td>\n",
       "      <td>434</td>\n",
       "      <td>1</td>\n",
       "      <td>1</td>\n",
       "      <td>844</td>\n",
       "      <td>250834</td>\n",
       "      <td>250837</td>\n",
       "      <td>862870</td>\n",
       "      <td>1.174360e+03</td>\n",
       "      <td>14</td>\n",
       "      <td>1.174360e+03</td>\n",
       "      <td>14</td>\n",
       "      <td>1</td>\n",
       "      <td>0</td>\n",
       "    </tr>\n",
       "    <tr>\n",
       "      <th>863067</th>\n",
       "      <td>5077870.0</td>\n",
       "      <td>420</td>\n",
       "      <td>435</td>\n",
       "      <td>1</td>\n",
       "      <td>0</td>\n",
       "      <td>844</td>\n",
       "      <td>228503</td>\n",
       "      <td>229818</td>\n",
       "      <td>862930</td>\n",
       "      <td>8.111199e+06</td>\n",
       "      <td>12</td>\n",
       "      <td>8.111199e+06</td>\n",
       "      <td>12</td>\n",
       "      <td>3</td>\n",
       "      <td>0</td>\n",
       "    </tr>\n",
       "    <tr>\n",
       "      <th>863068</th>\n",
       "      <td>5078336.0</td>\n",
       "      <td>33</td>\n",
       "      <td>436</td>\n",
       "      <td>1</td>\n",
       "      <td>1</td>\n",
       "      <td>844</td>\n",
       "      <td>261912</td>\n",
       "      <td>402219</td>\n",
       "      <td>862270</td>\n",
       "      <td>3.732000e-03</td>\n",
       "      <td>1</td>\n",
       "      <td>3.732000e-03</td>\n",
       "      <td>1</td>\n",
       "      <td>6</td>\n",
       "      <td>0</td>\n",
       "    </tr>\n",
       "  </tbody>\n",
       "</table>\n",
       "<p>1611 rows × 15 columns</p>\n",
       "</div>"
      ],
      "text/plain": [
       "           EdgeID  Source Node  Target Node  Ground Truth  Prediction  batch  \\\n",
       "9578    4224249.0          496          779             1           0     10   \n",
       "9976    4223680.0         1870         1569             1           0     10   \n",
       "16070   4230243.0         1485         1499             1           0     16   \n",
       "18708   4233085.0          543          612             1           0     19   \n",
       "24206   4238132.0         1382         1383             1           1     24   \n",
       "...           ...          ...          ...           ...         ...    ...   \n",
       "863064  5077990.0          371          432             1           1    844   \n",
       "863065  5077947.0          297          433             1           1    844   \n",
       "863066  5078129.0           48          434             1           1    844   \n",
       "863067  5077870.0          420          435             1           0    844   \n",
       "863068  5078336.0           33          436             1           1    844   \n",
       "\n",
       "        from_id   to_id  Timestamp   Amount Sent  Sent Currency  \\\n",
       "9578      84988   94696     691330  8.570000e+00              0   \n",
       "9976      27308   79897     692890  8.366780e+03              0   \n",
       "16070    140744  147158     692650  2.232600e+02              2   \n",
       "18708    167044  167045     692950  6.730900e+02              4   \n",
       "24206    277847  297139     692350  3.849800e+02              3   \n",
       "...         ...     ...        ...           ...            ...   \n",
       "863064   303317  240276     863470  5.025000e+01             11   \n",
       "863065   231196  339251     863050  1.378374e+04             11   \n",
       "863066   250834  250837     862870  1.174360e+03             14   \n",
       "863067   228503  229818     862930  8.111199e+06             12   \n",
       "863068   261912  402219     862270  3.732000e-03              1   \n",
       "\n",
       "        Amount Received  Received Currency  Payment Format  Is Laundering  \n",
       "9578       8.570000e+00                  0               2              0  \n",
       "9976       8.366780e+03                  0               2              0  \n",
       "16070      2.232600e+02                  2               2              0  \n",
       "18708      6.730900e+02                  4               2              0  \n",
       "24206      3.849800e+02                  3               1              0  \n",
       "...                 ...                ...             ...            ...  \n",
       "863064     5.025000e+01                 11               5              0  \n",
       "863065     1.378374e+04                 11               1              0  \n",
       "863066     1.174360e+03                 14               1              0  \n",
       "863067     8.111199e+06                 12               3              0  \n",
       "863068     3.732000e-03                  1               6              0  \n",
       "\n",
       "[1611 rows x 15 columns]"
      ]
     },
     "execution_count": 26,
     "metadata": {},
     "output_type": "execute_result"
    }
   ],
   "source": [
    "merged_df[merged_df[\"Ground Truth\"] == 1]"
   ]
  },
  {
   "cell_type": "code",
   "execution_count": 27,
   "metadata": {},
   "outputs": [
    {
     "data": {
      "text/html": [
       "<div>\n",
       "<style scoped>\n",
       "    .dataframe tbody tr th:only-of-type {\n",
       "        vertical-align: middle;\n",
       "    }\n",
       "\n",
       "    .dataframe tbody tr th {\n",
       "        vertical-align: top;\n",
       "    }\n",
       "\n",
       "    .dataframe thead th {\n",
       "        text-align: right;\n",
       "    }\n",
       "</style>\n",
       "<table border=\"1\" class=\"dataframe\">\n",
       "  <thead>\n",
       "    <tr style=\"text-align: right;\">\n",
       "      <th></th>\n",
       "      <th>EdgeID</th>\n",
       "      <th>from_id</th>\n",
       "      <th>to_id</th>\n",
       "      <th>Timestamp</th>\n",
       "      <th>Amount Sent</th>\n",
       "      <th>Sent Currency</th>\n",
       "      <th>Amount Received</th>\n",
       "      <th>Received Currency</th>\n",
       "      <th>Payment Format</th>\n",
       "      <th>Is Laundering</th>\n",
       "    </tr>\n",
       "  </thead>\n",
       "  <tbody>\n",
       "    <tr>\n",
       "      <th>4216529</th>\n",
       "      <td>4224249</td>\n",
       "      <td>84988</td>\n",
       "      <td>94696</td>\n",
       "      <td>691330</td>\n",
       "      <td>8.57</td>\n",
       "      <td>0</td>\n",
       "      <td>8.57</td>\n",
       "      <td>0</td>\n",
       "      <td>2</td>\n",
       "      <td>0</td>\n",
       "    </tr>\n",
       "  </tbody>\n",
       "</table>\n",
       "</div>"
      ],
      "text/plain": [
       "          EdgeID  from_id  to_id  Timestamp  Amount Sent  Sent Currency  \\\n",
       "4216529  4224249    84988  94696     691330         8.57              0   \n",
       "\n",
       "         Amount Received  Received Currency  Payment Format  Is Laundering  \n",
       "4216529             8.57                  0               2              0  "
      ]
     },
     "execution_count": 27,
     "metadata": {},
     "output_type": "execute_result"
    }
   ],
   "source": [
    "df_a[df_a[\"EdgeID\"] == 4224249]"
   ]
  }
 ],
 "metadata": {
  "kernelspec": {
   "display_name": "aml",
   "language": "python",
   "name": "python3"
  },
  "language_info": {
   "codemirror_mode": {
    "name": "ipython",
    "version": 3
   },
   "file_extension": ".py",
   "mimetype": "text/x-python",
   "name": "python",
   "nbconvert_exporter": "python",
   "pygments_lexer": "ipython3",
   "version": "3.12.5"
  }
 },
 "nbformat": 4,
 "nbformat_minor": 2
}
