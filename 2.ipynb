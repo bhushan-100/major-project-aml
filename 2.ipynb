{
 "cells": [
  {
   "cell_type": "code",
   "execution_count": 2,
   "metadata": {},
   "outputs": [],
   "source": [
    "import json\n",
    "import pandas as pd\n",
    "import numpy as np\n",
    "import os\n",
    "import logging\n",
    "import sys\n",
    "import random\n",
    "import torch\n",
    "import itertools\n",
    "from torch_geometric.data import Data\n",
    "from torch_geometric.typing import OptTensor\n",
    "from torch_geometric.loader import LinkNeighborLoader"
   ]
  },
  {
   "cell_type": "code",
   "execution_count": 3,
   "metadata": {},
   "outputs": [],
   "source": [
    "device = torch.device(\"cuda:0\" if torch.cuda.is_available() else \"cpu\")"
   ]
  },
  {
   "cell_type": "code",
   "execution_count": 4,
   "metadata": {},
   "outputs": [],
   "source": [
    "class Arg:\n",
    "  def __init__(self):\n",
    "    self.seed = 1\n",
    "    self.n_epochs = 100\n",
    "    self.batch_size = 512\n",
    "    self.num_neighs = [100, 100]\n",
    "    self.tqdm = True\n",
    "    self.data = \"Small_HI\"\n",
    "    self.model = \"pna\"\n",
    "    self.testing = False\n",
    "    self.save_model = True\n",
    "    self.unique_name = 'pna1'\n",
    "    self.finetune = False\n",
    "    self.inference = False\n",
    "    self.ports = False\n",
    "    self.tds = False\n",
    "    self.ego = False\n",
    "    self.reverse_mp = False\n",
    "    self.emlps = False\n",
    "\n",
    "args = Arg()"
   ]
  },
  {
   "cell_type": "code",
   "execution_count": 5,
   "metadata": {},
   "outputs": [],
   "source": [
    "with open('data_config.json', 'r') as config_file:\n",
    "    data_config = json.load(config_file)"
   ]
  },
  {
   "cell_type": "code",
   "execution_count": 6,
   "metadata": {},
   "outputs": [
    {
     "data": {
      "text/plain": [
       "{'paths': {'aml_data': '/data',\n",
       "  'model_to_load': '/models',\n",
       "  'model_to_save': '/models'}}"
      ]
     },
     "execution_count": 6,
     "metadata": {},
     "output_type": "execute_result"
    }
   ],
   "source": [
    "data_config"
   ]
  },
  {
   "cell_type": "code",
   "execution_count": 7,
   "metadata": {},
   "outputs": [],
   "source": [
    "def logger_setup():\n",
    "    # Setup logging\n",
    "    log_directory = \"logs\"\n",
    "    if not os.path.exists(log_directory):\n",
    "        os.makedirs(log_directory)\n",
    "    logging.basicConfig(\n",
    "        level=logging.INFO,\n",
    "        format=\"%(asctime)s [%(levelname)-5.5s] %(message)s\",\n",
    "        handlers=[\n",
    "            logging.FileHandler(os.path.join(log_directory, \"logs.log\")),     ## log to local log file\n",
    "            logging.StreamHandler(sys.stdout)          ## log also to stdout (i.e., print to screen)\n",
    "        ]\n",
    "    )"
   ]
  },
  {
   "cell_type": "code",
   "execution_count": 8,
   "metadata": {},
   "outputs": [],
   "source": [
    "def set_seed(seed: int = 0) -> None:\n",
    "    np.random.seed(seed)\n",
    "    random.seed(seed)\n",
    "    torch.manual_seed(seed)\n",
    "    torch.cuda.manual_seed(seed)\n",
    "    # When running on the CuDNN backend, two further options must be set\n",
    "    torch.backends.cudnn.deterministic = True\n",
    "    torch.backends.cudnn.benchmark = False\n",
    "    # Set a fixed value for the hash seed\n",
    "    os.environ[\"PYTHONHASHSEED\"] = str(seed)\n",
    "    logging.info(f\"Random seed set as {seed}\")"
   ]
  },
  {
   "cell_type": "code",
   "execution_count": 9,
   "metadata": {},
   "outputs": [
    {
     "data": {
      "text/html": [
       "<div>\n",
       "<style scoped>\n",
       "    .dataframe tbody tr th:only-of-type {\n",
       "        vertical-align: middle;\n",
       "    }\n",
       "\n",
       "    .dataframe tbody tr th {\n",
       "        vertical-align: top;\n",
       "    }\n",
       "\n",
       "    .dataframe thead th {\n",
       "        text-align: right;\n",
       "    }\n",
       "</style>\n",
       "<table border=\"1\" class=\"dataframe\">\n",
       "  <thead>\n",
       "    <tr style=\"text-align: right;\">\n",
       "      <th></th>\n",
       "      <th>EdgeID</th>\n",
       "      <th>from_id</th>\n",
       "      <th>to_id</th>\n",
       "      <th>Timestamp</th>\n",
       "      <th>Amount Sent</th>\n",
       "      <th>Sent Currency</th>\n",
       "      <th>Amount Received</th>\n",
       "      <th>Received Currency</th>\n",
       "      <th>Payment Format</th>\n",
       "      <th>Is Laundering</th>\n",
       "    </tr>\n",
       "  </thead>\n",
       "  <tbody>\n",
       "    <tr>\n",
       "      <th>0</th>\n",
       "      <td>316720</td>\n",
       "      <td>256803</td>\n",
       "      <td>256803</td>\n",
       "      <td>10</td>\n",
       "      <td>47.64</td>\n",
       "      <td>13</td>\n",
       "      <td>47.64</td>\n",
       "      <td>13</td>\n",
       "      <td>0</td>\n",
       "      <td>0</td>\n",
       "    </tr>\n",
       "    <tr>\n",
       "      <th>1</th>\n",
       "      <td>261688</td>\n",
       "      <td>212164</td>\n",
       "      <td>212164</td>\n",
       "      <td>10</td>\n",
       "      <td>3917.42</td>\n",
       "      <td>10</td>\n",
       "      <td>3917.42</td>\n",
       "      <td>10</td>\n",
       "      <td>0</td>\n",
       "      <td>0</td>\n",
       "    </tr>\n",
       "    <tr>\n",
       "      <th>2</th>\n",
       "      <td>261696</td>\n",
       "      <td>212165</td>\n",
       "      <td>208177</td>\n",
       "      <td>10</td>\n",
       "      <td>97.49</td>\n",
       "      <td>10</td>\n",
       "      <td>97.49</td>\n",
       "      <td>10</td>\n",
       "      <td>2</td>\n",
       "      <td>0</td>\n",
       "    </tr>\n",
       "    <tr>\n",
       "      <th>3</th>\n",
       "      <td>126680</td>\n",
       "      <td>102447</td>\n",
       "      <td>102448</td>\n",
       "      <td>10</td>\n",
       "      <td>13939.05</td>\n",
       "      <td>2</td>\n",
       "      <td>13939.05</td>\n",
       "      <td>2</td>\n",
       "      <td>5</td>\n",
       "      <td>0</td>\n",
       "    </tr>\n",
       "    <tr>\n",
       "      <th>4</th>\n",
       "      <td>126564</td>\n",
       "      <td>102351</td>\n",
       "      <td>102351</td>\n",
       "      <td>10</td>\n",
       "      <td>10.37</td>\n",
       "      <td>2</td>\n",
       "      <td>10.37</td>\n",
       "      <td>2</td>\n",
       "      <td>0</td>\n",
       "      <td>0</td>\n",
       "    </tr>\n",
       "  </tbody>\n",
       "</table>\n",
       "</div>"
      ],
      "text/plain": [
       "   EdgeID  from_id   to_id  Timestamp  Amount Sent  Sent Currency  \\\n",
       "0  316720   256803  256803         10        47.64             13   \n",
       "1  261688   212164  212164         10      3917.42             10   \n",
       "2  261696   212165  208177         10        97.49             10   \n",
       "3  126680   102447  102448         10     13939.05              2   \n",
       "4  126564   102351  102351         10        10.37              2   \n",
       "\n",
       "   Amount Received  Received Currency  Payment Format  Is Laundering  \n",
       "0            47.64                 13               0              0  \n",
       "1          3917.42                 10               0              0  \n",
       "2            97.49                 10               2              0  \n",
       "3         13939.05                  2               5              0  \n",
       "4            10.37                  2               0              0  "
      ]
     },
     "execution_count": 9,
     "metadata": {},
     "output_type": "execute_result"
    }
   ],
   "source": [
    "transaction_file = f\"./{data_config['paths']['aml_data']}/{args.data}/formatted_transactions.csv\" #replace this with your path to the respective AML data objects\n",
    "df_edges = pd.read_csv(transaction_file)\n",
    "df_edges.head()"
   ]
  },
  {
   "cell_type": "code",
   "execution_count": 50,
   "metadata": {},
   "outputs": [
    {
     "data": {
      "text/plain": [
       "Index(['EdgeID', 'from_id', 'to_id', 'Timestamp', 'Amount Sent',\n",
       "       'Sent Currency', 'Amount Received', 'Received Currency',\n",
       "       'Payment Format', 'Is Laundering'],\n",
       "      dtype='object')"
      ]
     },
     "execution_count": 50,
     "metadata": {},
     "output_type": "execute_result"
    }
   ],
   "source": [
    "df_edges.columns"
   ]
  },
  {
   "cell_type": "markdown",
   "metadata": {},
   "source": [
    "## Start timestamp to 0"
   ]
  },
  {
   "cell_type": "code",
   "execution_count": 51,
   "metadata": {},
   "outputs": [
    {
     "data": {
      "text/html": [
       "<div>\n",
       "<style scoped>\n",
       "    .dataframe tbody tr th:only-of-type {\n",
       "        vertical-align: middle;\n",
       "    }\n",
       "\n",
       "    .dataframe tbody tr th {\n",
       "        vertical-align: top;\n",
       "    }\n",
       "\n",
       "    .dataframe thead th {\n",
       "        text-align: right;\n",
       "    }\n",
       "</style>\n",
       "<table border=\"1\" class=\"dataframe\">\n",
       "  <thead>\n",
       "    <tr style=\"text-align: right;\">\n",
       "      <th></th>\n",
       "      <th>EdgeID</th>\n",
       "      <th>from_id</th>\n",
       "      <th>to_id</th>\n",
       "      <th>Timestamp</th>\n",
       "      <th>Amount Sent</th>\n",
       "      <th>Sent Currency</th>\n",
       "      <th>Amount Received</th>\n",
       "      <th>Received Currency</th>\n",
       "      <th>Payment Format</th>\n",
       "      <th>Is Laundering</th>\n",
       "    </tr>\n",
       "  </thead>\n",
       "  <tbody>\n",
       "    <tr>\n",
       "      <th>0</th>\n",
       "      <td>316720</td>\n",
       "      <td>256803</td>\n",
       "      <td>256803</td>\n",
       "      <td>0</td>\n",
       "      <td>47.64</td>\n",
       "      <td>13</td>\n",
       "      <td>47.64</td>\n",
       "      <td>13</td>\n",
       "      <td>0</td>\n",
       "      <td>0</td>\n",
       "    </tr>\n",
       "    <tr>\n",
       "      <th>1</th>\n",
       "      <td>261688</td>\n",
       "      <td>212164</td>\n",
       "      <td>212164</td>\n",
       "      <td>0</td>\n",
       "      <td>3917.42</td>\n",
       "      <td>10</td>\n",
       "      <td>3917.42</td>\n",
       "      <td>10</td>\n",
       "      <td>0</td>\n",
       "      <td>0</td>\n",
       "    </tr>\n",
       "    <tr>\n",
       "      <th>2</th>\n",
       "      <td>261696</td>\n",
       "      <td>212165</td>\n",
       "      <td>208177</td>\n",
       "      <td>0</td>\n",
       "      <td>97.49</td>\n",
       "      <td>10</td>\n",
       "      <td>97.49</td>\n",
       "      <td>10</td>\n",
       "      <td>2</td>\n",
       "      <td>0</td>\n",
       "    </tr>\n",
       "    <tr>\n",
       "      <th>3</th>\n",
       "      <td>126680</td>\n",
       "      <td>102447</td>\n",
       "      <td>102448</td>\n",
       "      <td>0</td>\n",
       "      <td>13939.05</td>\n",
       "      <td>2</td>\n",
       "      <td>13939.05</td>\n",
       "      <td>2</td>\n",
       "      <td>5</td>\n",
       "      <td>0</td>\n",
       "    </tr>\n",
       "    <tr>\n",
       "      <th>4</th>\n",
       "      <td>126564</td>\n",
       "      <td>102351</td>\n",
       "      <td>102351</td>\n",
       "      <td>0</td>\n",
       "      <td>10.37</td>\n",
       "      <td>2</td>\n",
       "      <td>10.37</td>\n",
       "      <td>2</td>\n",
       "      <td>0</td>\n",
       "      <td>0</td>\n",
       "    </tr>\n",
       "  </tbody>\n",
       "</table>\n",
       "</div>"
      ],
      "text/plain": [
       "   EdgeID  from_id   to_id  Timestamp  Amount Sent  Sent Currency  \\\n",
       "0  316720   256803  256803          0        47.64             13   \n",
       "1  261688   212164  212164          0      3917.42             10   \n",
       "2  261696   212165  208177          0        97.49             10   \n",
       "3  126680   102447  102448          0     13939.05              2   \n",
       "4  126564   102351  102351          0        10.37              2   \n",
       "\n",
       "   Amount Received  Received Currency  Payment Format  Is Laundering  \n",
       "0            47.64                 13               0              0  \n",
       "1          3917.42                 10               0              0  \n",
       "2            97.49                 10               2              0  \n",
       "3         13939.05                  2               5              0  \n",
       "4            10.37                  2               0              0  "
      ]
     },
     "execution_count": 51,
     "metadata": {},
     "output_type": "execute_result"
    }
   ],
   "source": [
    "df_edges['Timestamp'] = df_edges['Timestamp'] - df_edges['Timestamp'].min()\n",
    "df_edges.head()"
   ]
  },
  {
   "cell_type": "code",
   "execution_count": 52,
   "metadata": {},
   "outputs": [
    {
     "data": {
      "text/html": [
       "<div>\n",
       "<style scoped>\n",
       "    .dataframe tbody tr th:only-of-type {\n",
       "        vertical-align: middle;\n",
       "    }\n",
       "\n",
       "    .dataframe tbody tr th {\n",
       "        vertical-align: top;\n",
       "    }\n",
       "\n",
       "    .dataframe thead th {\n",
       "        text-align: right;\n",
       "    }\n",
       "</style>\n",
       "<table border=\"1\" class=\"dataframe\">\n",
       "  <thead>\n",
       "    <tr style=\"text-align: right;\">\n",
       "      <th></th>\n",
       "      <th>EdgeID</th>\n",
       "      <th>from_id</th>\n",
       "      <th>to_id</th>\n",
       "      <th>Timestamp</th>\n",
       "      <th>Amount Sent</th>\n",
       "      <th>Sent Currency</th>\n",
       "      <th>Amount Received</th>\n",
       "      <th>Received Currency</th>\n",
       "      <th>Payment Format</th>\n",
       "      <th>Is Laundering</th>\n",
       "    </tr>\n",
       "  </thead>\n",
       "  <tbody>\n",
       "    <tr>\n",
       "      <th>981220</th>\n",
       "      <td>982879</td>\n",
       "      <td>2</td>\n",
       "      <td>353098</td>\n",
       "      <td>72060</td>\n",
       "      <td>18.69</td>\n",
       "      <td>0</td>\n",
       "      <td>18.69</td>\n",
       "      <td>0</td>\n",
       "      <td>3</td>\n",
       "      <td>0</td>\n",
       "    </tr>\n",
       "    <tr>\n",
       "      <th>994070</th>\n",
       "      <td>982878</td>\n",
       "      <td>2</td>\n",
       "      <td>353098</td>\n",
       "      <td>73440</td>\n",
       "      <td>77.40</td>\n",
       "      <td>0</td>\n",
       "      <td>77.40</td>\n",
       "      <td>0</td>\n",
       "      <td>1</td>\n",
       "      <td>0</td>\n",
       "    </tr>\n",
       "    <tr>\n",
       "      <th>1050672</th>\n",
       "      <td>1047784</td>\n",
       "      <td>2</td>\n",
       "      <td>2</td>\n",
       "      <td>79560</td>\n",
       "      <td>64.81</td>\n",
       "      <td>0</td>\n",
       "      <td>64.81</td>\n",
       "      <td>0</td>\n",
       "      <td>0</td>\n",
       "      <td>0</td>\n",
       "    </tr>\n",
       "    <tr>\n",
       "      <th>1830377</th>\n",
       "      <td>1825725</td>\n",
       "      <td>2</td>\n",
       "      <td>353098</td>\n",
       "      <td>168180</td>\n",
       "      <td>18.69</td>\n",
       "      <td>0</td>\n",
       "      <td>18.69</td>\n",
       "      <td>0</td>\n",
       "      <td>3</td>\n",
       "      <td>0</td>\n",
       "    </tr>\n",
       "    <tr>\n",
       "      <th>1834037</th>\n",
       "      <td>1825724</td>\n",
       "      <td>2</td>\n",
       "      <td>353098</td>\n",
       "      <td>168600</td>\n",
       "      <td>77.40</td>\n",
       "      <td>0</td>\n",
       "      <td>77.40</td>\n",
       "      <td>0</td>\n",
       "      <td>1</td>\n",
       "      <td>0</td>\n",
       "    </tr>\n",
       "    <tr>\n",
       "      <th>2354474</th>\n",
       "      <td>2349866</td>\n",
       "      <td>2</td>\n",
       "      <td>353098</td>\n",
       "      <td>355800</td>\n",
       "      <td>77.40</td>\n",
       "      <td>0</td>\n",
       "      <td>77.40</td>\n",
       "      <td>0</td>\n",
       "      <td>1</td>\n",
       "      <td>0</td>\n",
       "    </tr>\n",
       "    <tr>\n",
       "      <th>2355474</th>\n",
       "      <td>2349867</td>\n",
       "      <td>2</td>\n",
       "      <td>353098</td>\n",
       "      <td>355980</td>\n",
       "      <td>18.69</td>\n",
       "      <td>0</td>\n",
       "      <td>18.69</td>\n",
       "      <td>0</td>\n",
       "      <td>3</td>\n",
       "      <td>0</td>\n",
       "    </tr>\n",
       "    <tr>\n",
       "      <th>2728433</th>\n",
       "      <td>2728718</td>\n",
       "      <td>2</td>\n",
       "      <td>4</td>\n",
       "      <td>424920</td>\n",
       "      <td>829.87</td>\n",
       "      <td>0</td>\n",
       "      <td>829.87</td>\n",
       "      <td>0</td>\n",
       "      <td>3</td>\n",
       "      <td>0</td>\n",
       "    </tr>\n",
       "    <tr>\n",
       "      <th>2834084</th>\n",
       "      <td>2832122</td>\n",
       "      <td>2</td>\n",
       "      <td>353098</td>\n",
       "      <td>441720</td>\n",
       "      <td>77.40</td>\n",
       "      <td>0</td>\n",
       "      <td>77.40</td>\n",
       "      <td>0</td>\n",
       "      <td>1</td>\n",
       "      <td>0</td>\n",
       "    </tr>\n",
       "    <tr>\n",
       "      <th>2835105</th>\n",
       "      <td>2832123</td>\n",
       "      <td>2</td>\n",
       "      <td>353098</td>\n",
       "      <td>441900</td>\n",
       "      <td>18.69</td>\n",
       "      <td>0</td>\n",
       "      <td>18.69</td>\n",
       "      <td>0</td>\n",
       "      <td>3</td>\n",
       "      <td>0</td>\n",
       "    </tr>\n",
       "    <tr>\n",
       "      <th>3331892</th>\n",
       "      <td>3333835</td>\n",
       "      <td>2</td>\n",
       "      <td>353098</td>\n",
       "      <td>531000</td>\n",
       "      <td>77.40</td>\n",
       "      <td>0</td>\n",
       "      <td>77.40</td>\n",
       "      <td>0</td>\n",
       "      <td>1</td>\n",
       "      <td>0</td>\n",
       "    </tr>\n",
       "    <tr>\n",
       "      <th>3335257</th>\n",
       "      <td>3333836</td>\n",
       "      <td>2</td>\n",
       "      <td>353098</td>\n",
       "      <td>531600</td>\n",
       "      <td>18.69</td>\n",
       "      <td>0</td>\n",
       "      <td>18.69</td>\n",
       "      <td>0</td>\n",
       "      <td>3</td>\n",
       "      <td>0</td>\n",
       "    </tr>\n",
       "    <tr>\n",
       "      <th>3797583</th>\n",
       "      <td>3796634</td>\n",
       "      <td>2</td>\n",
       "      <td>353098</td>\n",
       "      <td>614280</td>\n",
       "      <td>18.69</td>\n",
       "      <td>0</td>\n",
       "      <td>18.69</td>\n",
       "      <td>0</td>\n",
       "      <td>3</td>\n",
       "      <td>0</td>\n",
       "    </tr>\n",
       "    <tr>\n",
       "      <th>3802510</th>\n",
       "      <td>3796633</td>\n",
       "      <td>2</td>\n",
       "      <td>353098</td>\n",
       "      <td>615240</td>\n",
       "      <td>77.40</td>\n",
       "      <td>0</td>\n",
       "      <td>77.40</td>\n",
       "      <td>0</td>\n",
       "      <td>1</td>\n",
       "      <td>0</td>\n",
       "    </tr>\n",
       "    <tr>\n",
       "      <th>4643512</th>\n",
       "      <td>4644872</td>\n",
       "      <td>2</td>\n",
       "      <td>353098</td>\n",
       "      <td>747120</td>\n",
       "      <td>18.69</td>\n",
       "      <td>0</td>\n",
       "      <td>18.69</td>\n",
       "      <td>0</td>\n",
       "      <td>3</td>\n",
       "      <td>0</td>\n",
       "    </tr>\n",
       "    <tr>\n",
       "      <th>4653781</th>\n",
       "      <td>4644871</td>\n",
       "      <td>2</td>\n",
       "      <td>353098</td>\n",
       "      <td>748500</td>\n",
       "      <td>77.40</td>\n",
       "      <td>0</td>\n",
       "      <td>77.40</td>\n",
       "      <td>0</td>\n",
       "      <td>1</td>\n",
       "      <td>0</td>\n",
       "    </tr>\n",
       "  </tbody>\n",
       "</table>\n",
       "</div>"
      ],
      "text/plain": [
       "          EdgeID  from_id   to_id  Timestamp  Amount Sent  Sent Currency  \\\n",
       "981220    982879        2  353098      72060        18.69              0   \n",
       "994070    982878        2  353098      73440        77.40              0   \n",
       "1050672  1047784        2       2      79560        64.81              0   \n",
       "1830377  1825725        2  353098     168180        18.69              0   \n",
       "1834037  1825724        2  353098     168600        77.40              0   \n",
       "2354474  2349866        2  353098     355800        77.40              0   \n",
       "2355474  2349867        2  353098     355980        18.69              0   \n",
       "2728433  2728718        2       4     424920       829.87              0   \n",
       "2834084  2832122        2  353098     441720        77.40              0   \n",
       "2835105  2832123        2  353098     441900        18.69              0   \n",
       "3331892  3333835        2  353098     531000        77.40              0   \n",
       "3335257  3333836        2  353098     531600        18.69              0   \n",
       "3797583  3796634        2  353098     614280        18.69              0   \n",
       "3802510  3796633        2  353098     615240        77.40              0   \n",
       "4643512  4644872        2  353098     747120        18.69              0   \n",
       "4653781  4644871        2  353098     748500        77.40              0   \n",
       "\n",
       "         Amount Received  Received Currency  Payment Format  Is Laundering  \n",
       "981220             18.69                  0               3              0  \n",
       "994070             77.40                  0               1              0  \n",
       "1050672            64.81                  0               0              0  \n",
       "1830377            18.69                  0               3              0  \n",
       "1834037            77.40                  0               1              0  \n",
       "2354474            77.40                  0               1              0  \n",
       "2355474            18.69                  0               3              0  \n",
       "2728433           829.87                  0               3              0  \n",
       "2834084            77.40                  0               1              0  \n",
       "2835105            18.69                  0               3              0  \n",
       "3331892            77.40                  0               1              0  \n",
       "3335257            18.69                  0               3              0  \n",
       "3797583            18.69                  0               3              0  \n",
       "3802510            77.40                  0               1              0  \n",
       "4643512            18.69                  0               3              0  \n",
       "4653781            77.40                  0               1              0  "
      ]
     },
     "execution_count": 52,
     "metadata": {},
     "output_type": "execute_result"
    }
   ],
   "source": [
    "df_edges[df_edges[\"from_id\"] == 2]"
   ]
  },
  {
   "cell_type": "markdown",
   "metadata": {},
   "source": [
    "## Total accounts"
   ]
  },
  {
   "cell_type": "code",
   "execution_count": 53,
   "metadata": {},
   "outputs": [
    {
     "data": {
      "text/plain": [
       "515088"
      ]
     },
     "execution_count": 53,
     "metadata": {},
     "output_type": "execute_result"
    }
   ],
   "source": [
    "max_n_id = df_edges.loc[:, ['from_id', 'to_id']].to_numpy().max() + 1\n",
    "max_n_id"
   ]
  },
  {
   "cell_type": "code",
   "execution_count": 54,
   "metadata": {},
   "outputs": [
    {
     "data": {
      "text/html": [
       "<div>\n",
       "<style scoped>\n",
       "    .dataframe tbody tr th:only-of-type {\n",
       "        vertical-align: middle;\n",
       "    }\n",
       "\n",
       "    .dataframe tbody tr th {\n",
       "        vertical-align: top;\n",
       "    }\n",
       "\n",
       "    .dataframe thead th {\n",
       "        text-align: right;\n",
       "    }\n",
       "</style>\n",
       "<table border=\"1\" class=\"dataframe\">\n",
       "  <thead>\n",
       "    <tr style=\"text-align: right;\">\n",
       "      <th></th>\n",
       "      <th>NodeID</th>\n",
       "      <th>Feature</th>\n",
       "    </tr>\n",
       "  </thead>\n",
       "  <tbody>\n",
       "    <tr>\n",
       "      <th>0</th>\n",
       "      <td>0</td>\n",
       "      <td>1.0</td>\n",
       "    </tr>\n",
       "    <tr>\n",
       "      <th>1</th>\n",
       "      <td>1</td>\n",
       "      <td>1.0</td>\n",
       "    </tr>\n",
       "    <tr>\n",
       "      <th>2</th>\n",
       "      <td>2</td>\n",
       "      <td>1.0</td>\n",
       "    </tr>\n",
       "    <tr>\n",
       "      <th>3</th>\n",
       "      <td>3</td>\n",
       "      <td>1.0</td>\n",
       "    </tr>\n",
       "    <tr>\n",
       "      <th>4</th>\n",
       "      <td>4</td>\n",
       "      <td>1.0</td>\n",
       "    </tr>\n",
       "  </tbody>\n",
       "</table>\n",
       "</div>"
      ],
      "text/plain": [
       "   NodeID  Feature\n",
       "0       0      1.0\n",
       "1       1      1.0\n",
       "2       2      1.0\n",
       "3       3      1.0\n",
       "4       4      1.0"
      ]
     },
     "execution_count": 54,
     "metadata": {},
     "output_type": "execute_result"
    }
   ],
   "source": [
    "df_nodes = pd.DataFrame({'NodeID': np.arange(max_n_id), 'Feature': np.ones(max_n_id)})\n",
    "df_nodes.head()"
   ]
  },
  {
   "cell_type": "code",
   "execution_count": 78,
   "metadata": {},
   "outputs": [
    {
     "data": {
      "text/plain": [
       "tensor([      0.,       0.,       0.,  ..., 1509480., 1515480., 1527480.])"
      ]
     },
     "execution_count": 78,
     "metadata": {},
     "output_type": "execute_result"
    }
   ],
   "source": [
    "timestamps = torch.Tensor(df_edges[\"Timestamp\"])\n",
    "timestamps"
   ]
  },
  {
   "cell_type": "code",
   "execution_count": 60,
   "metadata": {},
   "outputs": [
    {
     "data": {
      "text/plain": [
       "tensor([0, 0, 0,  ..., 1, 1, 1])"
      ]
     },
     "execution_count": 60,
     "metadata": {},
     "output_type": "execute_result"
    }
   ],
   "source": [
    "y = torch.LongTensor(df_edges[\"Is Laundering\"].to_numpy())\n",
    "y"
   ]
  },
  {
   "cell_type": "markdown",
   "metadata": {},
   "source": [
    "### Illicit transactions, total transactions"
   ]
  },
  {
   "cell_type": "code",
   "execution_count": 84,
   "metadata": {},
   "outputs": [
    {
     "data": {
      "text/plain": [
       "5177"
      ]
     },
     "execution_count": 84,
     "metadata": {},
     "output_type": "execute_result"
    }
   ],
   "source": [
    "torch.sum(y).item()"
   ]
  },
  {
   "cell_type": "code",
   "execution_count": 83,
   "metadata": {},
   "outputs": [
    {
     "data": {
      "text/plain": [
       "5078345"
      ]
     },
     "execution_count": 83,
     "metadata": {},
     "output_type": "execute_result"
    }
   ],
   "source": [
    "total_transactions = y.shape[0]\n",
    "total_transactions"
   ]
  },
  {
   "cell_type": "markdown",
   "metadata": {},
   "source": [
    "### Illicit ratio"
   ]
  },
  {
   "cell_type": "code",
   "execution_count": 64,
   "metadata": {},
   "outputs": [
    {
     "data": {
      "text/plain": [
       "'0.10 %'"
      ]
     },
     "execution_count": 64,
     "metadata": {},
     "output_type": "execute_result"
    }
   ],
   "source": [
    "f\"{torch.sum(y).item() / y.shape[0] * 100:.2f} %\""
   ]
  },
  {
   "cell_type": "code",
   "execution_count": 65,
   "metadata": {},
   "outputs": [],
   "source": [
    "edge_features = ['Timestamp', 'Amount Received', 'Received Currency', 'Payment Format']\n",
    "node_features = ['Feature']"
   ]
  },
  {
   "cell_type": "code",
   "execution_count": 66,
   "metadata": {},
   "outputs": [
    {
     "data": {
      "text/plain": [
       "tensor([[1.],\n",
       "        [1.],\n",
       "        [1.],\n",
       "        ...,\n",
       "        [1.],\n",
       "        [1.],\n",
       "        [1.]], dtype=torch.float64)"
      ]
     },
     "execution_count": 66,
     "metadata": {},
     "output_type": "execute_result"
    }
   ],
   "source": [
    "x = torch.tensor(df_nodes.loc[:, node_features].to_numpy())\n",
    "x"
   ]
  },
  {
   "cell_type": "markdown",
   "metadata": {},
   "source": [
    "### edge from (node1, node2)"
   ]
  },
  {
   "cell_type": "code",
   "execution_count": 91,
   "metadata": {},
   "outputs": [
    {
     "data": {
      "text/plain": [
       "tensor([[256803, 212164, 212165,  ...,  71717,  71717,  71717],\n",
       "        [256803, 212164, 208177,  ..., 131619, 273443,  49001]])"
      ]
     },
     "execution_count": 91,
     "metadata": {},
     "output_type": "execute_result"
    }
   ],
   "source": [
    "edge_index = torch.LongTensor(df_edges.loc[:, ['from_id', 'to_id']].to_numpy().T)\n",
    "edge_index"
   ]
  },
  {
   "cell_type": "markdown",
   "metadata": {},
   "source": [
    "### Edge features"
   ]
  },
  {
   "cell_type": "code",
   "execution_count": 92,
   "metadata": {},
   "outputs": [
    {
     "data": {
      "text/plain": [
       "tensor([[0.0000e+00, 4.7640e+01, 1.3000e+01, 0.0000e+00],\n",
       "        [0.0000e+00, 3.9174e+03, 1.0000e+01, 0.0000e+00],\n",
       "        [0.0000e+00, 9.7490e+01, 1.0000e+01, 2.0000e+00],\n",
       "        ...,\n",
       "        [1.5095e+06, 1.7853e+03, 2.0000e+00, 3.0000e+00],\n",
       "        [1.5155e+06, 2.1545e+03, 0.0000e+00, 3.0000e+00],\n",
       "        [1.5275e+06, 5.4485e+03, 0.0000e+00, 3.0000e+00]])"
      ]
     },
     "execution_count": 92,
     "metadata": {},
     "output_type": "execute_result"
    }
   ],
   "source": [
    "edge_attr = torch.tensor(df_edges.loc[:, edge_features].to_numpy()).float()\n",
    "edge_attr"
   ]
  },
  {
   "cell_type": "code",
   "execution_count": 93,
   "metadata": {},
   "outputs": [
    {
     "data": {
      "text/plain": [
       "18"
      ]
     },
     "execution_count": 93,
     "metadata": {},
     "output_type": "execute_result"
    }
   ],
   "source": [
    "n_days = int(timestamps.max() / (3600 * 24) + 1)\n",
    "n_days"
   ]
  },
  {
   "cell_type": "code",
   "execution_count": 96,
   "metadata": {},
   "outputs": [
    {
     "data": {
      "text/plain": [
       "[[0, 1, 2, 3, 4, 5], [6, 7], [8, 9, 10, 11, 12, 13, 14, 15, 16, 17]]"
      ]
     },
     "execution_count": 96,
     "metadata": {},
     "output_type": "execute_result"
    }
   ],
   "source": [
    "daily_irs, weighted_daily_irs, daily_inds, daily_trans = [], [], [], [] #irs = illicit ratios, inds = indices, trans = transactions\n",
    "for day in range(n_days):\n",
    "    l = day * 24 * 3600\n",
    "    r = (day + 1) * 24 * 3600\n",
    "    day_inds = torch.where((timestamps >= l) & (timestamps < r))[0]\n",
    "    daily_irs.append(y[day_inds].float().mean())\n",
    "    weighted_daily_irs.append(y[day_inds].float().mean() * day_inds.shape[0] / total_transactions)\n",
    "    daily_inds.append(day_inds)\n",
    "    daily_trans.append(day_inds.shape[0])\n",
    "\n",
    "split_per = [0.6, 0.2, 0.2]\n",
    "daily_totals = np.array(daily_trans)\n",
    "d_ts = daily_totals\n",
    "I = list(range(len(d_ts)))\n",
    "split_scores = dict()\n",
    "for i,j in itertools.combinations(I, 2):\n",
    "    if j >= i:\n",
    "        split_totals = [d_ts[:i].sum(), d_ts[i:j].sum(), d_ts[j:].sum()]\n",
    "        split_totals_sum = np.sum(split_totals)\n",
    "        split_props = [v/split_totals_sum for v in split_totals]\n",
    "        split_error = [abs(v-t)/t for v,t in zip(split_props, split_per)]\n",
    "        score = max(split_error) #- (split_totals_sum/total) + 1\n",
    "        split_scores[(i,j)] = score\n",
    "\n",
    "i,j = min(split_scores, key=split_scores.get)\n",
    "split = [list(range(i)), list(range(i, j)), list(range(j, len(daily_totals)))]\n",
    "split"
   ]
  },
  {
   "cell_type": "code",
   "execution_count": 97,
   "metadata": {},
   "outputs": [
    {
     "data": {
      "text/plain": [
       "(torch.Size([3248921]), torch.Size([965524]), torch.Size([863900]))"
      ]
     },
     "execution_count": 97,
     "metadata": {},
     "output_type": "execute_result"
    }
   ],
   "source": [
    "\n",
    "#Now, we seperate the transactions based on their indices in the timestamp array\n",
    "split_inds = {k: [] for k in range(3)}\n",
    "for i in range(3):\n",
    "    for day in split[i]:\n",
    "        split_inds[i].append(daily_inds[day]) #split_inds contains a list for each split (tr,val,te) which contains the indices of each day seperately\n",
    "\n",
    "tr_inds = torch.cat(split_inds[0])\n",
    "val_inds = torch.cat(split_inds[1])\n",
    "te_inds = torch.cat(split_inds[2])\n",
    "\n",
    "tr_inds.shape, val_inds.shape, te_inds.shape"
   ]
  },
  {
   "cell_type": "code",
   "execution_count": 101,
   "metadata": {},
   "outputs": [
    {
     "data": {
      "text/plain": [
       "'Total train samples: 63.98% || IR: 0.08% || Train days: [0, 1, 2, 3, 4]'"
      ]
     },
     "execution_count": 101,
     "metadata": {},
     "output_type": "execute_result"
    }
   ],
   "source": [
    "f\"Total train samples: {tr_inds.shape[0] / y.shape[0] * 100 :.2f}% || IR: \\\n",
    "{y[tr_inds].float().mean() * 100 :.2f}% || Train days: {split[0][:5]}\""
   ]
  },
  {
   "cell_type": "code",
   "execution_count": 103,
   "metadata": {},
   "outputs": [
    {
     "data": {
      "text/plain": [
       "'Total val samples: 19.01% || IR: 0.11% || Val days: [6, 7]'"
      ]
     },
     "execution_count": 103,
     "metadata": {},
     "output_type": "execute_result"
    }
   ],
   "source": [
    "f\"Total val samples: {val_inds.shape[0] / y.shape[0] * 100 :.2f}% || IR: \\\n",
    "{y[val_inds].float().mean() * 100:.2f}% || Val days: {split[1][:5]}\""
   ]
  },
  {
   "cell_type": "code",
   "execution_count": 104,
   "metadata": {},
   "outputs": [
    {
     "data": {
      "text/plain": [
       "'Total test samples: 17.01% || IR: 0.19% || Test days: [8, 9, 10, 11, 12]'"
      ]
     },
     "execution_count": 104,
     "metadata": {},
     "output_type": "execute_result"
    }
   ],
   "source": [
    "\n",
    "f\"Total test samples: {te_inds.shape[0] / y.shape[0] * 100 :.2f}% || IR: \\\n",
    "{y[te_inds].float().mean() * 100:.2f}% || Test days: {split[2][:5]}\"\n"
   ]
  },
  {
   "cell_type": "code",
   "execution_count": 105,
   "metadata": {},
   "outputs": [],
   "source": [
    "tr_x, val_x, te_x = x, x, x\n",
    "e_tr = tr_inds.numpy()\n",
    "e_val = np.concatenate([tr_inds, val_inds])\n",
    "\n",
    "tr_edge_index,  tr_edge_attr,  tr_y,  tr_edge_times  = edge_index[:,e_tr],  edge_attr[e_tr],  y[e_tr],  timestamps[e_tr]\n",
    "val_edge_index, val_edge_attr, val_y, val_edge_times = edge_index[:,e_val], edge_attr[e_val], y[e_val], timestamps[e_val]\n",
    "te_edge_index,  te_edge_attr,  te_y,  te_edge_times  = edge_index,          edge_attr,        y,        timestamps"
   ]
  },
  {
   "cell_type": "code",
   "execution_count": 107,
   "metadata": {},
   "outputs": [],
   "source": [
    "class GraphData(Data):\n",
    "    '''This is the homogenous graph object we use for GNN training if reverse MP is not enabled'''\n",
    "    def __init__(\n",
    "        self,\n",
    "        x: OptTensor = None,\n",
    "        edge_index: OptTensor = None,\n",
    "        edge_attr: OptTensor = None,\n",
    "        y: OptTensor = None,\n",
    "        pos: OptTensor = None,\n",
    "        readout: str = 'edge',\n",
    "        num_nodes: int = None,\n",
    "        timestamps: OptTensor = None,\n",
    "        node_timestamps: OptTensor = None,\n",
    "        **kwargs\n",
    "    ):\n",
    "        super().__init__(x, edge_index, edge_attr, y, pos, **kwargs)\n",
    "        self.readout = readout\n",
    "        self.loss_fn = 'ce'\n",
    "        self.num_nodes = int(self.x.shape[0])\n",
    "        self.node_timestamps = node_timestamps\n",
    "        if timestamps is not None:\n",
    "            self.timestamps = timestamps\n",
    "        elif edge_attr is not None:\n",
    "            self.timestamps = edge_attr[:,0].clone()\n",
    "        else:\n",
    "            self.timestamps = None"
   ]
  },
  {
   "cell_type": "code",
   "execution_count": 108,
   "metadata": {},
   "outputs": [],
   "source": [
    "def z_norm(data):\n",
    "    std = data.std(0).unsqueeze(0)\n",
    "    std = torch.where(std == 0, torch.tensor(1, dtype=torch.float32).cpu(), std)\n",
    "    return (data - data.mean(0).unsqueeze(0)) / std"
   ]
  },
  {
   "cell_type": "code",
   "execution_count": 109,
   "metadata": {},
   "outputs": [],
   "source": [
    "tr_data = GraphData (x=tr_x,  y=tr_y,  edge_index=tr_edge_index,  edge_attr=tr_edge_attr,  timestamps=tr_edge_times )\n",
    "val_data = GraphData(x=val_x, y=val_y, edge_index=val_edge_index, edge_attr=val_edge_attr, timestamps=val_edge_times)\n",
    "te_data = GraphData (x=te_x,  y=te_y,  edge_index=te_edge_index,  edge_attr=te_edge_attr,  timestamps=te_edge_times )\n",
    "\n",
    "    #Normalize data\n",
    "tr_data.x = val_data.x = te_data.x = z_norm(tr_data.x)\n",
    "tr_data.edge_attr, val_data.edge_attr, te_data.edge_attr = z_norm(tr_data.edge_attr), z_norm(val_data.edge_attr), z_norm(te_data.edge_attr)"
   ]
  },
  {
   "cell_type": "code",
   "execution_count": 111,
   "metadata": {},
   "outputs": [],
   "source": [
    "tr_data.edge_attr = torch.cat([torch.arange(tr_data.edge_attr.shape[0]).view(-1, 1), tr_data.edge_attr], dim=1)\n",
    "val_data.edge_attr = torch.cat([torch.arange(val_data.edge_attr.shape[0]).view(-1, 1), val_data.edge_attr], dim=1)\n",
    "te_data.edge_attr = torch.cat([torch.arange(te_data.edge_attr.shape[0]).view(-1, 1), te_data.edge_attr], dim=1)"
   ]
  },
  {
   "cell_type": "code",
   "execution_count": 112,
   "metadata": {},
   "outputs": [],
   "source": [
    "transform = None"
   ]
  },
  {
   "cell_type": "code",
   "execution_count": 114,
   "metadata": {},
   "outputs": [],
   "source": [
    "tr_loader =  LinkNeighborLoader(tr_data, num_neighbors=args.num_neighs, batch_size=args.batch_size, shuffle=True, transform=transform)\n",
    "val_loader = LinkNeighborLoader(val_data,num_neighbors=args.num_neighs, edge_label_index=val_data.edge_index[:, val_inds],\n",
    "                                        edge_label=val_data.y[val_inds], batch_size=args.batch_size, shuffle=False, transform=transform)\n",
    "te_loader =  LinkNeighborLoader(te_data,num_neighbors=args.num_neighs, edge_label_index=te_data.edge_index[:, te_inds],\n",
    "                                edge_label=te_data.y[te_inds], batch_size=args.batch_size, shuffle=False, transform=transform)"
   ]
  },
  {
   "cell_type": "code",
   "execution_count": 116,
   "metadata": {},
   "outputs": [
    {
     "data": {
      "text/plain": [
       "GraphData(x=[515088, 1], edge_index=[2, 3248921], edge_attr=[3248921, 5], y=[3248921], readout='edge', loss_fn='ce', num_nodes=515088, timestamps=[3248921])"
      ]
     },
     "execution_count": 116,
     "metadata": {},
     "output_type": "execute_result"
    }
   ],
   "source": [
    "tr_data"
   ]
  }
 ],
 "metadata": {
  "kernelspec": {
   "display_name": "multignn",
   "language": "python",
   "name": "python3"
  },
  "language_info": {
   "codemirror_mode": {
    "name": "ipython",
    "version": 3
   },
   "file_extension": ".py",
   "mimetype": "text/x-python",
   "name": "python",
   "nbconvert_exporter": "python",
   "pygments_lexer": "ipython3",
   "version": "3.9.19"
  }
 },
 "nbformat": 4,
 "nbformat_minor": 2
}
